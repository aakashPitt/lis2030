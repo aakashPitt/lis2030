{
 "cells": [
  {
   "cell_type": "markdown",
   "metadata": {},
   "source": [
    "# Getting Started with Jupyter Notebooks\n",
    "\n",
    "If you are reading this, *wonderful*, you have successfully downloaded the test notebook to your computer and opened it in either in your Jupyerhub account (online; OPTION 1) or on Visual Studio Code editor in your computer (offline; OPTION 2). \n",
    "\n",
    "This document is  a *Jupyter Notebook* and you will be reading and writing a lot of these notebooks in the course. Jupyter Notebooks are a special kind of document that blends together human readable text (what you are reading right now) with executable code (below). You can kind of think of Jupyter Notebooks as the Microsoft Word Doc of programming.\n",
    "\n",
    "There will be a more exensive introduction to Jupyter Notebook and how to use them in the coming week, so don't worry if you don't fully understand how everything fits together. All of the new terminology, technology, and fiddly computer bits can be a bit overwhelming at first. If you ever have questions, please feel free to reach out to the teaching team. \n",
    "\n",
    "The purpose of this notebook is to test and make sure your system works well. This will help check if you have all of the software installed and connected together. Follow the instructions below to do a sanity check."
   ]
  },
  {
   "cell_type": "markdown",
   "metadata": {},
   "source": [
    "## Executing your first Program\n",
    "\n",
    "In this section of the notebook you will execute your first bit of Python code. The purpose of this exercise it to test and make sure you can run Python programs. If something doesn't work, please reach out.\n",
    "\n",
    "- Click on the code below (you don't need to edit it, just click)\n",
    "- Press the \"Execute Cell\" button to the left of the code cell (the small triangle) to run the code.\n",
    "    - You can also use the keyboard shortcut *control-enter* (`^-enter`) to execute the code as well.\n",
    "- If you see the text `Hello World!` displayed under your code then it works!\n",
    "    - If you can't get the code to execute, don't hesitate to reach out to the instructional staff.\n",
    "\n"
   ]
  },
  {
   "cell_type": "code",
   "execution_count": 1,
   "metadata": {
    "trusted": true
   },
   "outputs": [
    {
     "name": "stdout",
     "output_type": "stream",
     "text": [
      "Hello World!\n"
     ]
    }
   ],
   "source": [
    "print(\"Hello World!\")"
   ]
  },
  {
   "cell_type": "markdown",
   "metadata": {},
   "source": [
    "## Now that you have it working, let's try a few things\n",
    "\n",
    "Learning to program involves a lot of exploring and lots and lots of hit and a miss effort. We must open ourselves to the (often frustrating) experience of trying and seeing things fail. But computers are highly resilient. If we make a mistake on a computer program (in low stakes context like a class), we can correct it with little cost. That's the idea for this part. Let's play around with Python code below and see what we can do. Perhaps start by something as simple as printing out \"Hello, LIS 2030!\" and printing the output of sum of two numbers. \n",
    "\n",
    "A few things to keep in mind:\n",
    "1. Each line is a single statement. \n",
    "2. The computer will read one line at a time and \"execute\" that statement (that is, run the statement)\n",
    "3. Typically, statements are executed from top to bottom. There are ways to break that order (we will discuss this later in the semester)\n",
    "4. A program can have many statements.\n",
    "5. Larger software have many programs brought together to meet certain needs/goals. \n",
    "\n",
    "For reference, take a look at some simple Python code here: https://flexiple.com/python/python-commands."
   ]
  },
  {
   "cell_type": "code",
   "execution_count": null,
   "metadata": {},
   "outputs": [],
   "source": []
  },
  {
   "cell_type": "markdown",
   "metadata": {},
   "source": [
    "### Challenge question: \n",
    "Look at this list of simple Python commands: https://flexiple.com/python/python-commands\n",
    "\n",
    "Now, can you do the following: prompt your user to write their name of their pet or their favorite plant (plants are the new pets!). Then print out the length, that is, number of characters in the name.  "
   ]
  },
  {
   "cell_type": "code",
   "execution_count": null,
   "metadata": {},
   "outputs": [],
   "source": []
  }
 ],
 "metadata": {
  "kernelspec": {
   "display_name": "Python 3",
   "language": "python",
   "name": "python3"
  },
  "language_info": {
   "codemirror_mode": {
    "name": "ipython",
    "version": 3
   },
   "file_extension": ".py",
   "mimetype": "text/x-python",
   "name": "python",
   "nbconvert_exporter": "python",
   "pygments_lexer": "ipython3",
   "version": "3.12.1"
  }
 },
 "nbformat": 4,
 "nbformat_minor": 2
}
